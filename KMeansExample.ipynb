{
 "cells": [
  {
   "cell_type": "code",
   "execution_count": 1,
   "metadata": {
    "collapsed": true
   },
   "outputs": [],
   "source": [
    "from __future__ import print_function\n",
    "\n",
    "from sklearn.datasets import fetch_20newsgroups\n",
    "from sklearn.decomposition import TruncatedSVD\n",
    "from sklearn.feature_extraction.text import TfidfVectorizer\n",
    "from sklearn.feature_extraction.text import HashingVectorizer\n",
    "from sklearn.feature_extraction.text import TfidfTransformer\n",
    "from sklearn.pipeline import make_pipeline\n",
    "from sklearn.preprocessing import Normalizer\n",
    "from sklearn import metrics\n",
    "\n",
    "from sklearn.cluster import KMeans, MiniBatchKMeans\n",
    "\n",
    "import logging\n",
    "from optparse import OptionParser\n",
    "import sys\n",
    "from time import time\n",
    "\n",
    "import numpy as np"
   ]
  },
  {
   "cell_type": "code",
   "execution_count": 2,
   "metadata": {
    "collapsed": false
   },
   "outputs": [
    {
     "name": "stdout",
     "output_type": "stream",
     "text": [
      "Loading 20 newsgroups dataset for categories:\n",
      "['alt.atheism', 'talk.religion.misc', 'comp.graphics', 'sci.space']\n"
     ]
    }
   ],
   "source": [
    "categories = [\n",
    "    'alt.atheism',\n",
    "    'talk.religion.misc',\n",
    "    'comp.graphics',\n",
    "    'sci.space',\n",
    "]\n",
    "# Uncomment the following to do the analysis on all the categories\n",
    "#categories = None\n",
    "\n",
    "print(\"Loading 20 newsgroups dataset for categories:\")\n",
    "print(categories)"
   ]
  },
  {
   "cell_type": "code",
   "execution_count": 3,
   "metadata": {
    "collapsed": false
   },
   "outputs": [],
   "source": [
    "dataset = fetch_20newsgroups(subset='all', categories=categories,\n",
    "                             shuffle=True, random_state=42)"
   ]
  },
  {
   "cell_type": "code",
   "execution_count": null,
   "metadata": {
    "collapsed": true
   },
   "outputs": [],
   "source": []
  },
  {
   "cell_type": "code",
   "execution_count": 4,
   "metadata": {
    "collapsed": false
   },
   "outputs": [
    {
     "name": "stdout",
     "output_type": "stream",
     "text": [
      "3387 documents\n",
      "4 categories\n",
      "\n"
     ]
    }
   ],
   "source": [
    "print(\"%d documents\" % len(dataset.data))\n",
    "print(\"%d categories\" % len(dataset.target_names))\n",
    "print()"
   ]
  },
  {
   "cell_type": "code",
   "execution_count": 5,
   "metadata": {
    "collapsed": false
   },
   "outputs": [
    {
     "name": "stdout",
     "output_type": "stream",
     "text": [
      "<type 'list'>\n"
     ]
    }
   ],
   "source": [
    "print (type(dataset.data))"
   ]
  },
  {
   "cell_type": "code",
   "execution_count": 6,
   "metadata": {
    "collapsed": false
   },
   "outputs": [],
   "source": [
    "#dataset.data[0]"
   ]
  },
  {
   "cell_type": "code",
   "execution_count": 7,
   "metadata": {
    "collapsed": false
   },
   "outputs": [],
   "source": [
    "labels = dataset.target\n",
    "true_k = np.unique(labels).shape[0]"
   ]
  },
  {
   "cell_type": "code",
   "execution_count": 8,
   "metadata": {
    "collapsed": false
   },
   "outputs": [
    {
     "data": {
      "text/plain": [
       "3"
      ]
     },
     "execution_count": 8,
     "metadata": {},
     "output_type": "execute_result"
    }
   ],
   "source": [
    "dataset.target[3]"
   ]
  },
  {
   "cell_type": "code",
   "execution_count": 9,
   "metadata": {
    "collapsed": false
   },
   "outputs": [
    {
     "data": {
      "text/plain": [
       "numpy.ndarray"
      ]
     },
     "execution_count": 9,
     "metadata": {},
     "output_type": "execute_result"
    }
   ],
   "source": [
    "type(labels)"
   ]
  },
  {
   "cell_type": "code",
   "execution_count": 10,
   "metadata": {
    "collapsed": false
   },
   "outputs": [
    {
     "data": {
      "text/plain": [
       "3387"
      ]
     },
     "execution_count": 10,
     "metadata": {},
     "output_type": "execute_result"
    }
   ],
   "source": [
    "len(labels)"
   ]
  },
  {
   "cell_type": "code",
   "execution_count": 11,
   "metadata": {
    "collapsed": false
   },
   "outputs": [
    {
     "data": {
      "text/plain": [
       "4L"
      ]
     },
     "execution_count": 11,
     "metadata": {},
     "output_type": "execute_result"
    }
   ],
   "source": [
    "true_k"
   ]
  },
  {
   "cell_type": "code",
   "execution_count": 12,
   "metadata": {
    "collapsed": true
   },
   "outputs": [],
   "source": [
    "vectorizer = TfidfVectorizer(max_df=0.6, min_df=0.05, stop_words='english')"
   ]
  },
  {
   "cell_type": "code",
   "execution_count": 13,
   "metadata": {
    "collapsed": false
   },
   "outputs": [],
   "source": [
    "x = vectorizer.fit_transform(dataset.data)"
   ]
  },
  {
   "cell_type": "code",
   "execution_count": 14,
   "metadata": {
    "collapsed": false
   },
   "outputs": [
    {
     "data": {
      "text/plain": [
       "scipy.sparse.csr.csr_matrix"
      ]
     },
     "execution_count": 14,
     "metadata": {},
     "output_type": "execute_result"
    }
   ],
   "source": [
    "type(x)"
   ]
  },
  {
   "cell_type": "code",
   "execution_count": 15,
   "metadata": {
    "collapsed": false
   },
   "outputs": [
    {
     "data": {
      "text/plain": [
       "<3387x268 sparse matrix of type '<type 'numpy.float64'>'\n",
       "\twith 90646 stored elements in Compressed Sparse Row format>"
      ]
     },
     "execution_count": 15,
     "metadata": {},
     "output_type": "execute_result"
    }
   ],
   "source": [
    "x"
   ]
  },
  {
   "cell_type": "code",
   "execution_count": 16,
   "metadata": {
    "collapsed": false
   },
   "outputs": [
    {
     "data": {
      "text/plain": [
       "<1x268 sparse matrix of type '<type 'numpy.float64'>'\n",
       "\twith 29 stored elements in Compressed Sparse Row format>"
      ]
     },
     "execution_count": 16,
     "metadata": {},
     "output_type": "execute_result"
    }
   ],
   "source": [
    "x[0][0]"
   ]
  },
  {
   "cell_type": "code",
   "execution_count": 17,
   "metadata": {
    "collapsed": false
   },
   "outputs": [
    {
     "data": {
      "text/plain": [
       "(3387, 268)"
      ]
     },
     "execution_count": 17,
     "metadata": {},
     "output_type": "execute_result"
    }
   ],
   "source": [
    "x.shape"
   ]
  },
  {
   "cell_type": "code",
   "execution_count": 18,
   "metadata": {
    "collapsed": true
   },
   "outputs": [],
   "source": [
    "km = KMeans(n_clusters=5, init='k-means++', max_iter=100)"
   ]
  },
  {
   "cell_type": "code",
   "execution_count": 19,
   "metadata": {
    "collapsed": false
   },
   "outputs": [
    {
     "data": {
      "text/plain": [
       "KMeans(copy_x=True, init='k-means++', max_iter=100, n_clusters=5, n_init=10,\n",
       "    n_jobs=1, precompute_distances='auto', random_state=None, tol=0.0001,\n",
       "    verbose=0)"
      ]
     },
     "execution_count": 19,
     "metadata": {},
     "output_type": "execute_result"
    }
   ],
   "source": [
    "km.fit(x)"
   ]
  },
  {
   "cell_type": "code",
   "execution_count": 20,
   "metadata": {
    "collapsed": false
   },
   "outputs": [
    {
     "name": "stdout",
     "output_type": "stream",
     "text": [
      "Homogeneity: 0.317\n",
      "Completeness: 0.315\n",
      "V-measure: 0.316\n",
      "Adjusted Rand-Index: 0.245\n",
      "Silhouette Coefficient: 0.028\n"
     ]
    }
   ],
   "source": [
    "print(\"Homogeneity: %0.3f\" % metrics.homogeneity_score(labels, km.labels_))\n",
    "print(\"Completeness: %0.3f\" % metrics.completeness_score(labels, km.labels_))\n",
    "print(\"V-measure: %0.3f\" % metrics.v_measure_score(labels, km.labels_))\n",
    "print(\"Adjusted Rand-Index: %.3f\"\n",
    "      % metrics.adjusted_rand_score(labels, km.labels_))\n",
    "print(\"Silhouette Coefficient: %0.3f\"\n",
    "      % metrics.silhouette_score(x, km.labels_, sample_size=1000))"
   ]
  },
  {
   "cell_type": "code",
   "execution_count": 21,
   "metadata": {
    "collapsed": false
   },
   "outputs": [
    {
     "name": "stdout",
     "output_type": "stream",
     "text": [
      "Top terms per cluster:\n"
     ]
    }
   ],
   "source": [
    "print(\"Top terms per cluster:\")"
   ]
  },
  {
   "cell_type": "code",
   "execution_count": 22,
   "metadata": {
    "collapsed": false
   },
   "outputs": [
    {
     "name": "stdout",
     "output_type": "stream",
     "text": [
      "Cluster 0: com writes article don people just think like keith posting\n",
      "Cluster 1: uk ac university writes article cs computer science posting host\n",
      "Cluster 2: graphics university thanks image posting host nntp file ca program\n",
      "Cluster 3: space nasa gov orbit sci just like earth writes article\n",
      "Cluster 4: god jesus people bible believe christian com don say christians\n"
     ]
    }
   ],
   "source": [
    "order_centroids = km.cluster_centers_.argsort()[:, ::-1]\n",
    "\n",
    "terms = vectorizer.get_feature_names()\n",
    "for i in range(5):\n",
    "    print(\"Cluster %d:\" % i, end='')\n",
    "    for ind in order_centroids[i, :10]:\n",
    "        print(' %s' % terms[ind], end='')\n",
    "    print()"
   ]
  },
  {
   "cell_type": "code",
   "execution_count": 35,
   "metadata": {
    "collapsed": false
   },
   "outputs": [
    {
     "data": {
      "text/plain": [
       "array([ 0.01448162,  0.01193248,  0.00829344,  0.00876575,  0.01232331,\n",
       "        0.01166224,  0.01155249,  0.01008132,  0.01146953,  0.00943948,\n",
       "        0.0079625 ,  0.01559397,  0.01173588,  0.00863674,  0.00926877,\n",
       "        0.00722901,  0.01014963,  0.00829203,  0.00950225,  0.00933436,\n",
       "        0.0019706 ,  0.04181527,  0.02010882,  0.00365756,  0.00926073,\n",
       "        0.01491213,  0.01174026,  0.01245811,  0.01497054,  0.07418178,\n",
       "        0.00750647,  0.02573617,  0.02205811,  0.0057554 ,  0.01353889,\n",
       "        0.0122662 ,  0.01119271,  0.02249281,  0.00963594,  0.01956697,\n",
       "        0.01567679,  0.01422524,  0.01350942,  0.01671668,  0.01970666,\n",
       "        0.01230498,  0.00915059,  0.02270722,  0.01749067,  0.00492433,\n",
       "        0.01073058,  0.02579717,  0.01048312,  0.01706641,  0.00353765,\n",
       "        0.13738299,  0.01488471,  0.01544344,  0.0108461 ,  0.01100379,\n",
       "        0.0155294 ,  0.02894705,  0.00883489,  0.02079331,  0.01728104,\n",
       "        0.01194019,  0.01451742,  0.00620633,  0.00747118,  0.02813273,\n",
       "        0.01968789,  0.01553585,  0.0232295 ,  0.0338324 ,  0.01838962,\n",
       "        0.01311998,  0.05599567,  0.02034456,  0.00581355,  0.0080293 ,\n",
       "        0.02472449,  0.01631009,  0.00829682,  0.0112207 ,  0.02003046,\n",
       "        0.01603197,  0.00327902,  0.00205818,  0.00973764,  0.01233487,\n",
       "        0.00955161,  0.01314353,  0.01672169,  0.02251966,  0.02861119,\n",
       "        0.0152401 ,  0.00402727,  0.00209974,  0.01204978,  0.01609816,\n",
       "        0.01325203,  0.01019581,  0.00985831,  0.01367341,  0.01024997,\n",
       "        0.00706277,  0.01614773,  0.00992624,  0.03874361,  0.01610053,\n",
       "        0.01547752,  0.00229751,  0.00134389,  0.0095891 ,  0.00289935,\n",
       "        0.01126439,  0.00951986,  0.00657932,  0.00950243,  0.0045211 ,\n",
       "        0.01958484,  0.0116308 ,  0.01644397,  0.04868477,  0.04409478,\n",
       "        0.00571381,  0.00956506,  0.04041161,  0.01116461,  0.01210297,\n",
       "        0.01716533,  0.02355561,  0.04585683,  0.00903913,  0.01968204,\n",
       "        0.01056284,  0.01682443,  0.02173767,  0.01524657,  0.00603969,\n",
       "        0.01381609,  0.00631351,  0.02583762,  0.01256187,  0.00841618,\n",
       "        0.01712294,  0.01267283,  0.01607902,  0.01829833,  0.01428213,\n",
       "        0.01385057,  0.00904629,  0.01205048,  0.02617747,  0.03157854,\n",
       "        0.00658032,  0.0170351 ,  0.02954874,  0.02304427,  0.01854365,\n",
       "        0.00817767,  0.03888581,  0.01215703,  0.0089357 ,  0.01084163,\n",
       "        0.0115392 ,  0.01241108,  0.01200637,  0.01655492,  0.01925364,\n",
       "        0.01483507,  0.00905567,  0.05037673,  0.01597012,  0.01256093,\n",
       "        0.02699346,  0.01300944,  0.01533531,  0.04284015,  0.01194227,\n",
       "        0.00987534,  0.01696764,  0.01284872,  0.00895997,  0.00592032,\n",
       "        0.00545829,  0.01448656,  0.02168222,  0.00713285,  0.01552023,\n",
       "        0.02333155,  0.00965648,  0.01946403,  0.02499849,  0.0186551 ,\n",
       "        0.0313571 ,  0.01619951,  0.0134099 ,  0.02291959,  0.01045037,\n",
       "        0.02855892,  0.01788485,  0.03122678,  0.04055194,  0.0140054 ,\n",
       "        0.01423038,  0.00774276,  0.01741433,  0.01224265,  0.0121765 ,\n",
       "        0.00658064,  0.01223715,  0.01011058,  0.0062958 ,  0.00867514,\n",
       "        0.01136569,  0.00927563,  0.01231917,  0.01170687,  0.0069611 ,\n",
       "        0.01546181,  0.0109981 ,  0.01620761,  0.01413608,  0.01664581,\n",
       "        0.0156931 ,  0.0211152 ,  0.01093863,  0.01377195,  0.01162399,\n",
       "        0.01494747,  0.00561302,  0.01976995,  0.02531481,  0.04802195,\n",
       "        0.01570132,  0.03153186,  0.01159373,  0.006895  ,  0.00970802,\n",
       "        0.02127687,  0.01585053,  0.00993441,  0.00793306,  0.01479138,\n",
       "        0.03128028,  0.00921001,  0.00892874,  0.01938067,  0.01822059,\n",
       "        0.01823929,  0.01030509,  0.0172559 ,  0.02277064,  0.00907471,\n",
       "        0.01144371,  0.02481784,  0.0314751 ,  0.01533414,  0.01163946,\n",
       "        0.01513474,  0.02769423,  0.08134599,  0.01960153,  0.01979401,\n",
       "        0.01316109,  0.02601262,  0.01503166])"
      ]
     },
     "execution_count": 35,
     "metadata": {},
     "output_type": "execute_result"
    }
   ],
   "source": [
    "(km.cluster_centers_[0])"
   ]
  },
  {
   "cell_type": "code",
   "execution_count": 34,
   "metadata": {
    "collapsed": false
   },
   "outputs": [
    {
     "data": {
      "text/plain": [
       "array([ 55, 262,  29,  76, 172, 123, 234, 132, 124, 178,  21, 203, 127,\n",
       "       161, 108,  73, 154, 236, 257, 195, 245, 202, 157,  61,  94, 200,\n",
       "        69, 261, 175, 153, 266, 142,  51,  31, 233, 193, 256,  80, 131,\n",
       "       190,  72, 158, 198, 253,  47,  93,  37,  32, 137, 187, 240, 226,\n",
       "        63,  77,  22,  84, 264, 232,  44,  70, 134, 263, 120,  39, 192,\n",
       "       248, 169, 194, 159,  74, 148, 250, 249, 201,  48, 207,  64, 252,\n",
       "       130, 145,  53, 156, 181, 136,  92,  43, 224, 168, 122,  81, 222,\n",
       "       196, 106, 109,  99, 147,  85, 173, 241, 235, 225,  40,  11,  71,\n",
       "        60, 189, 110, 220,  57, 177, 258, 138,  95, 260, 267,  28, 230,\n",
       "        25,  56, 170, 244,  66, 186,   0, 149, 205,  41, 223, 204, 150,\n",
       "       140, 228, 103,  34,  42, 197, 100, 265,  91,  75, 176, 182, 146,\n",
       "       143, 174,  27, 166,  89,   4, 217,  45,  35, 208, 211, 209, 162,\n",
       "       129, 152,  98, 167, 179,  65,   1,  26,  12, 218,   5, 259, 121,\n",
       "       229, 237,   6, 165,   8, 255, 215, 115,  83,  36, 128,  59, 221,\n",
       "       227,  58, 164,  50, 135,  52, 199, 251, 104, 101,  16, 212,   7,\n",
       "       242, 107, 180, 102,  88, 239, 191,  38, 113, 126,  90, 116, 118,\n",
       "        18,   9,  19, 216,  14,  24, 246,  46, 254, 171, 151, 133, 183,\n",
       "       163, 247,  62,   3, 214,  13, 144,  82,   2,  17, 160,  79,  10,\n",
       "       243, 206,  30,  68,  15, 188, 105, 219, 238, 210, 155, 117, 141,\n",
       "       213,  67, 139, 184,  78,  33, 125, 231, 185,  49, 119,  96,  23,\n",
       "        54,  86, 114, 111,  97,  87,  20, 112], dtype=int64)"
      ]
     },
     "execution_count": 34,
     "metadata": {},
     "output_type": "execute_result"
    }
   ],
   "source": [
    "(order_centroids[0])"
   ]
  },
  {
   "cell_type": "code",
   "execution_count": 30,
   "metadata": {
    "collapsed": false
   },
   "outputs": [
    {
     "data": {
      "text/plain": [
       "array([ 55, 262,  29,  76, 172, 123, 234, 132, 124, 178], dtype=int64)"
      ]
     },
     "execution_count": 30,
     "metadata": {},
     "output_type": "execute_result"
    }
   ],
   "source": [
    "(order_centroids[0, :10])"
   ]
  },
  {
   "cell_type": "code",
   "execution_count": null,
   "metadata": {
    "collapsed": true
   },
   "outputs": [],
   "source": [
    "centroidTweets = [[] for _ in xrange(5)]"
   ]
  },
  {
   "cell_type": "code",
   "execution_count": null,
   "metadata": {
    "collapsed": false
   },
   "outputs": [],
   "source": [
    "centroidTweets"
   ]
  },
  {
   "cell_type": "code",
   "execution_count": null,
   "metadata": {
    "collapsed": true
   },
   "outputs": [],
   "source": []
  }
 ],
 "metadata": {
  "anaconda-cloud": {},
  "kernelspec": {
   "display_name": "Python [default]",
   "language": "python",
   "name": "python2"
  },
  "language_info": {
   "codemirror_mode": {
    "name": "ipython",
    "version": 2
   },
   "file_extension": ".py",
   "mimetype": "text/x-python",
   "name": "python",
   "nbconvert_exporter": "python",
   "pygments_lexer": "ipython2",
   "version": "2.7.12"
  }
 },
 "nbformat": 4,
 "nbformat_minor": 1
}
