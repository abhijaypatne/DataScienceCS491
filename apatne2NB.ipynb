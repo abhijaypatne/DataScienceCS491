{
 "cells": [
  {
   "cell_type": "code",
   "execution_count": null,
   "metadata": {},
   "outputs": [],
   "source": [
    "## Naive Bayes classifier for Tweet classification"
   ]
  },
  {
   "cell_type": "code",
   "execution_count": 1,
   "metadata": {
    "collapsed": true
   },
   "outputs": [],
   "source": [
    "import numpy as np\n",
    "import pandas as pd\n",
    "from sklearn.cross_validation import train_test_split\n",
    "from sklearn import svm\n",
    "from sklearn.feature_extraction.text import TfidfVectorizer\n",
    "import re\n",
    "import unicodedata as ud\n",
    "from sklearn.metrics import precision_recall_fscore_support as prfs\n",
    "import csv\n",
    "import HTMLParser\n",
    "from sklearn.metrics import classification_report\n",
    "from sklearn.cross_validation import cross_val_score\n",
    "from numpy import random\n",
    "from nltk.stem.porter import PorterStemmer as porterStemmer\n",
    "from itertools import izip\n",
    "import collections\n",
    "from sklearn.naive_bayes import BernoulliNB\n",
    "from sklearn.metrics import confusion_matrix\n",
    "import matplotlib.pyplot as plt\n",
    "from sklearn import metrics\n",
    "from sklearn.metrics import roc_curve, auc"
   ]
  },
  {
   "cell_type": "code",
   "execution_count": 2,
   "metadata": {
    "collapsed": true
   },
   "outputs": [],
   "source": [
    "def cleanTweet(originalTweet):\n",
    "    htmlParser = HTMLParser.HTMLParser()\n",
    "\n",
    "    tweet = originalTweet\n",
    "    #tweet = htmlParser.unescape(originalTweet);\n",
    "    #tweet = tweet.decode('windows-1252').encode('ascii', 'ignore')\n",
    "    #tweet = tweet.decode('windows-1252')\n",
    "    #tweet = tweet.decode(\"utf8\").encode('ascii', 'ignore')\n",
    "    #tweet = re.sub(r'[^\\x00-\\xFF]+', r'', tweet)\n",
    "    #tweet = re.sub(r'[^\\x00-\\x7F]+', r'', tweet)\n",
    "    #tweet = tweet.decode('utf-8').strip()\n",
    "    #tweet = tweet.decode('unicode_escape').encode('ascii','ignore')\n",
    "    #tweet = tweet.encode('ascii','ignore')\n",
    "    tweet = ''.join([i if ord(i) < 128 else ' ' for i in tweet])\n",
    "    \n",
    "    # remove URLs in tweet\n",
    "    tweet = re.sub(r'\\w+:\\/{2}[\\d\\w-]+(\\.[\\d\\w-]+)*(?:(?:\\/[^\\s/]*))*', '', tweet)\n",
    "\n",
    "    # remove strings starting with @ in tweet\n",
    "    tweet = re.sub(r'(\\s)@\\w+', r'', tweet)\n",
    "    tweet = re.sub(r'@\\w+', r'', tweet)\n",
    "    \n",
    "    # remove HTML tags from tweet\n",
    "    tweet = re.sub('<[^<]+?>', '', tweet)\n",
    "\n",
    "    # separates words joined with capital words.\n",
    "    # E.g. DisplayIsAweson to Display Is Awesom\n",
    "    #tweet = \" \".join(re.findall('[A-Z][^A-Z]*', tweet));\n",
    "\n",
    "    # remove exclamations\n",
    "    tweet = re.sub(r'[<>!#@$:.,%\\?-]+', r'', tweet)\n",
    "\n",
    "    # remove extra white spaces\n",
    "    tweet = re.sub(r'\\s+', r' ', tweet)\n",
    "    \n",
    "    # stemming\n",
    "    stemmer = porterStemmer()\n",
    "    stemmedTweet = [stemmer.stem(word) for word in tweet.split(\" \")]\n",
    "    stemmedTweet = \" \".join(stemmedTweet)\n",
    "    \n",
    "    tweet = str(stemmedTweet)\n",
    "    tweet = tweet.replace(\"'\", \"\")\n",
    "    \n",
    "    return tweet"
   ]
  },
  {
   "cell_type": "code",
   "execution_count": 3,
   "metadata": {
    "collapsed": true
   },
   "outputs": [],
   "source": [
    "trainData = pd.read_csv(\"A:\\\\new_Sync\\\\Box Sync\\\\academics\\\\sem3\\\\491\\\\assignments\\\\hw4\\\\data\\\\train2Columns.csv\")"
   ]
  },
  {
   "cell_type": "code",
   "execution_count": 4,
   "metadata": {
    "collapsed": true
   },
   "outputs": [],
   "source": [
    "testData = pd.read_csv(\"A:\\\\new_Sync\\\\Box Sync\\\\academics\\\\sem3\\\\491\\\\assignments\\\\hw4\\\\data\\\\test2Columns.csv\")"
   ]
  },
  {
   "cell_type": "code",
   "execution_count": 5,
   "metadata": {
    "collapsed": false
   },
   "outputs": [
    {
     "data": {
      "text/plain": [
       "(80000, 2)"
      ]
     },
     "execution_count": 5,
     "metadata": {},
     "output_type": "execute_result"
    }
   ],
   "source": [
    "trainData.shape\n",
    "#data.head(2)"
   ]
  },
  {
   "cell_type": "code",
   "execution_count": 6,
   "metadata": {
    "collapsed": true
   },
   "outputs": [],
   "source": [
    "rawTweetsSeries = trainData['tweets'];\n",
    "tweetLabels = trainData['class'];"
   ]
  },
  {
   "cell_type": "code",
   "execution_count": 7,
   "metadata": {
    "collapsed": true
   },
   "outputs": [],
   "source": [
    "rawTestTweetsSeries = testData['tweets'];\n",
    "testTweetLabels = testData['class'];"
   ]
  },
  {
   "cell_type": "code",
   "execution_count": 8,
   "metadata": {
    "collapsed": true
   },
   "outputs": [],
   "source": [
    "rawTestTweetsList = rawTestTweetsSeries.tolist()\n",
    "testTweetLabelList = testTweetLabels.tolist()"
   ]
  },
  {
   "cell_type": "code",
   "execution_count": 9,
   "metadata": {
    "collapsed": false
   },
   "outputs": [],
   "source": [
    "rawTweetsList = rawTweetsSeries.tolist()\n",
    "tweetLabelList = tweetLabels.tolist()"
   ]
  },
  {
   "cell_type": "code",
   "execution_count": 10,
   "metadata": {
    "collapsed": false
   },
   "outputs": [
    {
     "name": "stdout",
     "output_type": "stream",
     "text": [
      "80000\n",
      "@switchfoot http://twitpic.com/2y1zl - Awww, that's a bummer.  You shoulda got David Carr of Third Day to do it. ;D\n",
      "359\n",
      "@stellargirl I loooooooovvvvvveee my Kindle2. Not that the DX is cool, but the 2 is fantastic in its own right.\n"
     ]
    }
   ],
   "source": [
    "print (len(rawTweetsList))\n",
    "print (rawTweetsList[0])\n",
    "print (len(rawTestTweetsList))\n",
    "print (rawTestTweetsList[0])"
   ]
  },
  {
   "cell_type": "code",
   "execution_count": 11,
   "metadata": {
    "collapsed": false
   },
   "outputs": [
    {
     "name": "stdout",
     "output_type": "stream",
     "text": [
      "[ \"@khouryrt I'll stick with facebook in gravity, hopefully @janole will add more features to it soon \"\n",
      " \"So... I'm running on very few hours of sleep  all I want to do is sleep for the   rest of the day, but I have stuff to do &gt;.&lt;\"\n",
      " \"@summersunrays that's sad \"]\n",
      "[ \"The Times of India: The wonder that is India's election. http://bit.ly/p7u1H\"\n",
      " \"@crlane I have the Kindle2. I've seen pictures of the DX, but haven't seen it in person. I love my Kindle - I'm on it everyday.\"\n",
      " 'Played with an android google phone. The slide out screen scares me I would break that fucker so fast. Still prefer my iPhone.']\n"
     ]
    }
   ],
   "source": [
    "randomTweets = random.choice(rawTweetsList, 3)\n",
    "print (randomTweets)\n",
    "randomTestTweets = random.choice(rawTestTweetsList, 3)\n",
    "print (randomTestTweets)"
   ]
  },
  {
   "cell_type": "code",
   "execution_count": 12,
   "metadata": {
    "collapsed": true
   },
   "outputs": [],
   "source": [
    "i = 0;\n",
    "cleanedTweetsList = []\n",
    "for tweet in rawTweetsList:\n",
    "    #tweet.encode('utf-8').strip()\n",
    "    #tweet = tweet.decode(\"utf8\").encode('ascii', 'ignore')\n",
    "    #print (i ,),\n",
    "    cleanedTweet = cleanTweet(tweet).encode('ascii', 'ignore').strip();\n",
    "    cleanedTweetsList.append(cleanedTweet);\n",
    "    i += 1"
   ]
  },
  {
   "cell_type": "code",
   "execution_count": 13,
   "metadata": {
    "collapsed": true
   },
   "outputs": [],
   "source": [
    "j = 0;\n",
    "cleanedTestTweetsList = []\n",
    "for tweet in rawTestTweetsList:\n",
    "    cleanedTestTweet = cleanTweet(tweet).encode('ascii', 'ignore').strip();\n",
    "    cleanedTestTweetsList.append(cleanedTestTweet);\n",
    "    j += 1"
   ]
  },
  {
   "cell_type": "code",
   "execution_count": 14,
   "metadata": {
    "collapsed": false
   },
   "outputs": [
    {
     "name": "stdout",
     "output_type": "stream",
     "text": [
      "['hahahhahahha I love your joke xD'\n",
      " 'hehesomeon just sent me an auto DMit began by 1st apolog for send and auto DM'\n",
      " 'Now I have no Sky until Monday']\n",
      "['[MLUC09] Custom Innov Award Winner Booz Allen Hamilton'\n",
      " 'Shit hit the fan in Irancrazi inde iranelect'\n",
      " 'yay glad you got the phone Still damn you AT&amp;T']\n"
     ]
    }
   ],
   "source": [
    "randomTweets = random.choice(cleanedTweetsList, 3)\n",
    "print (randomTweets)\n",
    "randomTestTweets = random.choice(cleanedTestTweetsList, 3)\n",
    "print (randomTestTweets)"
   ]
  },
  {
   "cell_type": "code",
   "execution_count": 15,
   "metadata": {
    "collapsed": true
   },
   "outputs": [],
   "source": [
    "# Create feature vectors\n",
    "vectorizer = TfidfVectorizer(min_df=0.000125,\n",
    "                             max_df = 0.75,\n",
    "                             sublinear_tf=True,\n",
    "                             use_idf=True)"
   ]
  },
  {
   "cell_type": "code",
   "execution_count": 16,
   "metadata": {
    "collapsed": true
   },
   "outputs": [],
   "source": [
    "nbClassifier = BernoulliNB()"
   ]
  },
  {
   "cell_type": "code",
   "execution_count": 17,
   "metadata": {
    "collapsed": false
   },
   "outputs": [
    {
     "data": {
      "text/plain": [
       "(80000, 4661)"
      ]
     },
     "execution_count": 17,
     "metadata": {},
     "output_type": "execute_result"
    }
   ],
   "source": [
    "trainVectors = vectorizer.fit_transform(cleanedTweetsList)\n",
    "trainVectors.shape"
   ]
  },
  {
   "cell_type": "code",
   "execution_count": 18,
   "metadata": {
    "collapsed": false
   },
   "outputs": [
    {
     "data": {
      "text/plain": [
       "(359, 4661)"
      ]
     },
     "execution_count": 18,
     "metadata": {},
     "output_type": "execute_result"
    }
   ],
   "source": [
    "testVectors = vectorizer.transform(cleanedTestTweetsList)\n",
    "testVectors.shape"
   ]
  },
  {
   "cell_type": "code",
   "execution_count": 19,
   "metadata": {
    "collapsed": false
   },
   "outputs": [
    {
     "data": {
      "text/plain": [
       "BernoulliNB(alpha=1.0, binarize=0.0, class_prior=None, fit_prior=True)"
      ]
     },
     "execution_count": 19,
     "metadata": {},
     "output_type": "execute_result"
    }
   ],
   "source": [
    "nbClassifier.fit(trainVectors, tweetLabelList)"
   ]
  },
  {
   "cell_type": "code",
   "execution_count": 20,
   "metadata": {
    "collapsed": true
   },
   "outputs": [],
   "source": [
    "predictedLabels = nbClassifier.predict(testVectors)"
   ]
  },
  {
   "cell_type": "code",
   "execution_count": 21,
   "metadata": {
    "collapsed": true
   },
   "outputs": [],
   "source": [
    "predictedLabelList = predictedLabels.tolist()"
   ]
  },
  {
   "cell_type": "code",
   "execution_count": 22,
   "metadata": {
    "collapsed": true
   },
   "outputs": [],
   "source": [
    "classActual = np.array(testTweetLabels)\n",
    "classPredicted = np.array(predictedLabelList)"
   ]
  },
  {
   "cell_type": "code",
   "execution_count": 23,
   "metadata": {
    "collapsed": false
   },
   "outputs": [],
   "source": [
    "#prfs(classActual, classPredicted)"
   ]
  },
  {
   "cell_type": "code",
   "execution_count": 24,
   "metadata": {
    "collapsed": true
   },
   "outputs": [],
   "source": [
    "target_names = ['0', '1']"
   ]
  },
  {
   "cell_type": "code",
   "execution_count": 25,
   "metadata": {
    "collapsed": false
   },
   "outputs": [
    {
     "name": "stdout",
     "output_type": "stream",
     "text": [
      "             precision    recall  f1-score   support\n",
      "\n",
      "          0       0.81      0.77      0.79       177\n",
      "          1       0.79      0.82      0.81       182\n",
      "\n",
      "avg / total       0.80      0.80      0.80       359\n",
      "\n"
     ]
    }
   ],
   "source": [
    "print(classification_report(testTweetLabels, predictedLabelList, target_names=target_names))"
   ]
  },
  {
   "cell_type": "code",
   "execution_count": 26,
   "metadata": {
    "collapsed": false
   },
   "outputs": [
    {
     "name": "stdout",
     "output_type": "stream",
     "text": [
      "Confusion matrix\n",
      "[[137  40]\n",
      " [ 32 150]]\n"
     ]
    }
   ],
   "source": [
    "print(\"Confusion matrix\")\n",
    "print (confusion_matrix(testTweetLabels, predictedLabels))"
   ]
  },
  {
   "cell_type": "code",
   "execution_count": 27,
   "metadata": {
    "collapsed": false
   },
   "outputs": [
    {
     "name": "stdout",
     "output_type": "stream",
     "text": [
      "Actual values:  Counter({1: 182, 0: 177})\n"
     ]
    }
   ],
   "source": [
    "counter=collections.Counter(testTweetLabels)\n",
    "print(\"Actual values: \"),\n",
    "print (counter)"
   ]
  },
  {
   "cell_type": "code",
   "execution_count": 28,
   "metadata": {
    "collapsed": false
   },
   "outputs": [
    {
     "name": "stdout",
     "output_type": "stream",
     "text": [
      "Actual values:  Counter({1: 190, 0: 169})\n"
     ]
    }
   ],
   "source": [
    "counter=collections.Counter(predictedLabels)\n",
    "print(\"Actual values: \"),\n",
    "print(counter)"
   ]
  },
  {
   "cell_type": "code",
   "execution_count": 29,
   "metadata": {
    "collapsed": false
   },
   "outputs": [
    {
     "name": "stdout",
     "output_type": "stream",
     "text": [
      "Test accuracy: 0.799442896936\n"
     ]
    }
   ],
   "source": [
    "testAccuracy = nbClassifier.score(testVectors, testTweetLabels)\n",
    "print (\"Test accuracy:\"),\n",
    "print (testAccuracy)"
   ]
  },
  {
   "cell_type": "code",
   "execution_count": 30,
   "metadata": {
    "collapsed": false
   },
   "outputs": [
    {
     "name": "stdout",
     "output_type": "stream",
     "text": [
      "Train accuracy: 0.7803875\n"
     ]
    }
   ],
   "source": [
    "trainAccuracy = nbClassifier.score(trainVectors, tweetLabels)\n",
    "print (\"Train accuracy:\"),\n",
    "print (trainAccuracy)"
   ]
  },
  {
   "cell_type": "code",
   "execution_count": 31,
   "metadata": {
    "collapsed": false
   },
   "outputs": [
    {
     "name": "stdout",
     "output_type": "stream",
     "text": [
      "Cross validation scores: [ 0.7545    0.76475   0.7545    0.75975   0.759125  0.74675   0.76325\n",
      "  0.77375   0.764875  0.75375 ]\n",
      "('Mean: ', 0.75950000000000006)\n",
      "('Minimum: ', 0.74675000000000002)\n",
      "('Maximum: ', 0.77375000000000005)\n"
     ]
    }
   ],
   "source": [
    "cvScores = cross_val_score(nbClassifier, trainVectors, tweetLabelList, cv=10)\n",
    "print (\"Cross validation scores:\"),\n",
    "print (cvScores)\n",
    "print (\"Mean: \", cvScores.mean())\n",
    "print (\"Minimum: \", cvScores.min())\n",
    "print (\"Maximum: \", cvScores.max())"
   ]
  },
  {
   "cell_type": "code",
   "execution_count": 32,
   "metadata": {
    "collapsed": false
   },
   "outputs": [],
   "source": [
    "xAxis = [x for x in range(1,13)]\n",
    "yAxis = cvScores.tolist()\n",
    "yAxis.extend([trainAccuracy, testAccuracy])"
   ]
  },
  {
   "cell_type": "code",
   "execution_count": 33,
   "metadata": {
    "collapsed": false
   },
   "outputs": [
    {
     "data": {
      "image/png": "[encoded data removed]",
      "text/plain": [
       "<matplotlib.figure.Figure at 0xd76ee48>"
      ]
     },
     "metadata": {},
     "output_type": "display_data"
    }
   ],
   "source": [
    "plt.plot(xAxis, yAxis, marker='o', linestyle='--', color='r')\n",
    "plt.xlabel(\"Cross validation round number\")\n",
    "plt.ylabel(\"Accuracy\")\n",
    "plt.title(\"Naive Bayes Accuracy for 10 fold Cross Validation\")\n",
    "plt.text(7, .795, \"11=train, 12=test\")\n",
    "plt.show()"
   ]
  },
  {
   "cell_type": "code",
   "execution_count": 34,
   "metadata": {
    "collapsed": true
   },
   "outputs": [],
   "source": [
    "# Question 10"
   ]
  },
  {
   "cell_type": "code",
   "execution_count": 35,
   "metadata": {
    "collapsed": true
   },
   "outputs": [],
   "source": [
    "predictionProbabilities = nbClassifier.predict_proba(testVectors)\n",
    "zeroProbs = predictionProbabilities[:, 1]\n",
    "oneProbs = predictionProbabilities[:, 0]\n",
    "topFiveOne = oneProbs.argsort()[-5:][::-1]"
   ]
  },
  {
   "cell_type": "code",
   "execution_count": 36,
   "metadata": {
    "collapsed": false
   },
   "outputs": [
    {
     "name": "stdout",
     "output_type": "stream",
     "text": [
      "Correctly classified probabilities:\n",
      "------------------------------------------------------------------------------\n",
      "tweetid \t tweet \t actual label \t predited label \t prediction probability\n",
      "------------------------------------------------------------------------------\n",
      "128 THE DENTIST LIED! \" U WON'T FEEL ANY DISCOMORT! PROB WON'T EVEN NEED PAIN PILLS\" MAN U TWIPPIN THIS SHIT HURT!! HOW MANY PILLS CAN I TAKE!! 0 0\n",
      "0.999963856742\n",
      "127 My wrist still hurts. I have to get it looked at. I HATE the dr/dentist/scary places. :( Time to watch Eagle eye. If you want to join, txt! 1 0\n",
      "0.999721741998\n",
      "148 Time Warner cable phone reps r dumber than nails!!!!! UGH! Cable was working 10 mins ago now its not WTF! 0 0\n",
      "0.999622054183\n",
      "164 @springsingfiend @dvyers @sethdaggett @jlshack AT&amp;T dropped the ball and isn't supporting crap with the new iPhone 3.0... FAIL #att SUCKS!!! 0 0\n",
      "0.999590439774\n",
      "124 is being fucked by time warner cable. didnt know modems could explode. and Susan Boyle sucks too! 0 0\n",
      "0.998871281929\n"
     ]
    }
   ],
   "source": [
    "print (\"Correctly classified probabilities:\")\n",
    "print (\"------------------------------------------------------------------------------\")\n",
    "print (\"tweetid \\t tweet \\t actual label \\t predited label \\t prediction probability\");\n",
    "print (\"------------------------------------------------------------------------------\")\n",
    "for x in topFiveOne:\n",
    "    print (x),\n",
    "    print (rawTestTweetsList[x]),\n",
    "    print (testTweetLabelList[x]),\n",
    "    print (predictedLabelList[x])\n",
    "    print (predictionProbabilities[x][0])"
   ]
  },
  {
   "cell_type": "code",
   "execution_count": 37,
   "metadata": {
    "collapsed": true
   },
   "outputs": [],
   "source": [
    "# Question 7"
   ]
  },
  {
   "cell_type": "code",
   "execution_count": 38,
   "metadata": {
    "collapsed": false
   },
   "outputs": [],
   "source": [
    "featureNames = vectorizer.get_feature_names()\n",
    "coefficientArray = nbClassifier.coef_[0]\n",
    "top20Features = coefficientArray.argsort()[-20:][::-1]"
   ]
  },
  {
   "cell_type": "code",
   "execution_count": 39,
   "metadata": {
    "collapsed": false
   },
   "outputs": [
    {
     "name": "stdout",
     "output_type": "stream",
     "text": [
      "Top 20 features:\n",
      "the to you it and my for is in of on that im me have with so good just be\n"
     ]
    }
   ],
   "source": [
    "print (\"Top 20 features:\")\n",
    "for x in top20Features:\n",
    "    print (featureNames[x]),"
   ]
  },
  {
   "cell_type": "code",
   "execution_count": 40,
   "metadata": {
    "collapsed": true
   },
   "outputs": [],
   "source": [
    "# Question 7"
   ]
  },
  {
   "cell_type": "code",
   "execution_count": 41,
   "metadata": {
    "collapsed": false
   },
   "outputs": [],
   "source": [
    "#fpr, tpr, thresholds = metrics.roc_curve(y, scores, pos_label=2)\n",
    "fpr, tpr, thresholds = metrics.roc_curve(testTweetLabelList, predictedLabelList)\n",
    "roc_auc = auc(fpr, tpr)"
   ]
  },
  {
   "cell_type": "code",
   "execution_count": 43,
   "metadata": {
    "collapsed": false
   },
   "outputs": [
    {
     "data": {
      "image/png": "[encoded data removed]",
      "text/plain": [
       "<matplotlib.figure.Figure at 0xdfef710>"
      ]
     },
     "metadata": {},
     "output_type": "display_data"
    }
   ],
   "source": [
    "plt.plot(fpr, tpr, label='ROC curve (area = %0.2f)' % roc_auc, marker='o', linestyle='--', color='r')\n",
    "plt.xlabel(\"False Positive Rate\")\n",
    "plt.ylabel(\"True Positive Rate\")\n",
    "plt.title(\"ROC Curve for Naive Bayes\")\n",
    "plt.show()"
   ]
  }
 ],
 "metadata": {
  "anaconda-cloud": {},
  "kernelspec": {
   "display_name": "Python [conda root]",
   "language": "python",
   "name": "conda-root-py"
  },
  "language_info": {
   "codemirror_mode": {
    "name": "ipython",
    "version": 2.0
   },
   "file_extension": ".py",
   "mimetype": "text/x-python",
   "name": "python",
   "nbconvert_exporter": "python",
   "pygments_lexer": "ipython2",
   "version": "2.7.12"
  }
 },
 "nbformat": 4,
 "nbformat_minor": 0
}